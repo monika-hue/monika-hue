{
  "nbformat": 4,
  "nbformat_minor": 0,
  "metadata": {
    "colab": {
      "name": "Untitled4.ipynb",
      "provenance": [],
      "collapsed_sections": []
    },
    "kernelspec": {
      "name": "python3",
      "display_name": "Python 3"
    },
    "language_info": {
      "name": "python"
    }
  },
  "cells": [
    {
      "cell_type": "code",
      "metadata": {
        "colab": {
          "base_uri": "https://localhost:8080/"
        },
        "id": "4cAxsXB2DLSk",
        "outputId": "ff5a57f3-7f6e-40b9-9009-af7761b0a022"
      },
      "source": [
        "from google.colab import drive\n",
        "drive.mount('/content/drive')"
      ],
      "execution_count": null,
      "outputs": [
        {
          "output_type": "stream",
          "text": [
            "Drive already mounted at /content/drive; to attempt to forcibly remount, call drive.mount(\"/content/drive\", force_remount=True).\n"
          ],
          "name": "stdout"
        }
      ]
    },
    {
      "cell_type": "code",
      "metadata": {
        "id": "SmiB1Mh3DaPQ"
      },
      "source": [
        "import pandas as pd\n",
        "import os"
      ],
      "execution_count": 2,
      "outputs": []
    },
    {
      "cell_type": "code",
      "metadata": {
        "id": "bAWd-BevDdGC"
      },
      "source": [
        "df=pd.read_csv('/content/drive/MyDrive/ml dataset/Sales_Data/Sales_April_2019.csv')"
      ],
      "execution_count": 3,
      "outputs": []
    },
    {
      "cell_type": "code",
      "metadata": {
        "colab": {
          "base_uri": "https://localhost:8080/",
          "height": 204
        },
        "id": "v4VxEJ71Dhas",
        "outputId": "8ea55a23-de4a-4f02-cd6b-f5b829f93c6c"
      },
      "source": [
        "df.head()"
      ],
      "execution_count": 4,
      "outputs": [
        {
          "output_type": "execute_result",
          "data": {
            "text/html": [
              "<div>\n",
              "<style scoped>\n",
              "    .dataframe tbody tr th:only-of-type {\n",
              "        vertical-align: middle;\n",
              "    }\n",
              "\n",
              "    .dataframe tbody tr th {\n",
              "        vertical-align: top;\n",
              "    }\n",
              "\n",
              "    .dataframe thead th {\n",
              "        text-align: right;\n",
              "    }\n",
              "</style>\n",
              "<table border=\"1\" class=\"dataframe\">\n",
              "  <thead>\n",
              "    <tr style=\"text-align: right;\">\n",
              "      <th></th>\n",
              "      <th>Order ID</th>\n",
              "      <th>Product</th>\n",
              "      <th>Quantity Ordered</th>\n",
              "      <th>Price Each</th>\n",
              "      <th>Order Date</th>\n",
              "      <th>Purchase Address</th>\n",
              "    </tr>\n",
              "  </thead>\n",
              "  <tbody>\n",
              "    <tr>\n",
              "      <th>0</th>\n",
              "      <td>176558</td>\n",
              "      <td>USB-C Charging Cable</td>\n",
              "      <td>2</td>\n",
              "      <td>11.95</td>\n",
              "      <td>04/19/19 08:46</td>\n",
              "      <td>917 1st St, Dallas, TX 75001</td>\n",
              "    </tr>\n",
              "    <tr>\n",
              "      <th>1</th>\n",
              "      <td>NaN</td>\n",
              "      <td>NaN</td>\n",
              "      <td>NaN</td>\n",
              "      <td>NaN</td>\n",
              "      <td>NaN</td>\n",
              "      <td>NaN</td>\n",
              "    </tr>\n",
              "    <tr>\n",
              "      <th>2</th>\n",
              "      <td>176559</td>\n",
              "      <td>Bose SoundSport Headphones</td>\n",
              "      <td>1</td>\n",
              "      <td>99.99</td>\n",
              "      <td>04/07/19 22:30</td>\n",
              "      <td>682 Chestnut St, Boston, MA 02215</td>\n",
              "    </tr>\n",
              "    <tr>\n",
              "      <th>3</th>\n",
              "      <td>176560</td>\n",
              "      <td>Google Phone</td>\n",
              "      <td>1</td>\n",
              "      <td>600</td>\n",
              "      <td>04/12/19 14:38</td>\n",
              "      <td>669 Spruce St, Los Angeles, CA 90001</td>\n",
              "    </tr>\n",
              "    <tr>\n",
              "      <th>4</th>\n",
              "      <td>176560</td>\n",
              "      <td>Wired Headphones</td>\n",
              "      <td>1</td>\n",
              "      <td>11.99</td>\n",
              "      <td>04/12/19 14:38</td>\n",
              "      <td>669 Spruce St, Los Angeles, CA 90001</td>\n",
              "    </tr>\n",
              "  </tbody>\n",
              "</table>\n",
              "</div>"
            ],
            "text/plain": [
              "  Order ID  ...                      Purchase Address\n",
              "0   176558  ...          917 1st St, Dallas, TX 75001\n",
              "1      NaN  ...                                   NaN\n",
              "2   176559  ...     682 Chestnut St, Boston, MA 02215\n",
              "3   176560  ...  669 Spruce St, Los Angeles, CA 90001\n",
              "4   176560  ...  669 Spruce St, Los Angeles, CA 90001\n",
              "\n",
              "[5 rows x 6 columns]"
            ]
          },
          "metadata": {
            "tags": []
          },
          "execution_count": 4
        }
      ]
    },
    {
      "cell_type": "code",
      "metadata": {
        "id": "UbC27PNuU7MF"
      },
      "source": [
        "path = \"/content/drive/MyDrive/ml dataset/Sales_Data\"\n",
        "files = [file for file in os.listdir(path) if not file.startswith('.')] \n",
        "\n",
        "combined_data = pd.DataFrame()\n",
        "\n",
        "for file in files:\n",
        "    current_data = pd.read_csv(path+\"/\"+file)\n",
        "    combined_data = pd.concat([combined_data, current_data])\n",
        "    combined_data.to_csv(\"combined_data_copy.csv\", index=False)\n",
        "\n",
        "    "
      ],
      "execution_count": 7,
      "outputs": []
    },
    {
      "cell_type": "code",
      "metadata": {
        "colab": {
          "base_uri": "https://localhost:8080/",
          "height": 204
        },
        "id": "gWPTAqtOQYu-",
        "outputId": "b7a42a1d-aeff-4b84-c720-a0ff6d3fdf80"
      },
      "source": [
        "combined_data.head()"
      ],
      "execution_count": 8,
      "outputs": [
        {
          "output_type": "execute_result",
          "data": {
            "text/html": [
              "<div>\n",
              "<style scoped>\n",
              "    .dataframe tbody tr th:only-of-type {\n",
              "        vertical-align: middle;\n",
              "    }\n",
              "\n",
              "    .dataframe tbody tr th {\n",
              "        vertical-align: top;\n",
              "    }\n",
              "\n",
              "    .dataframe thead th {\n",
              "        text-align: right;\n",
              "    }\n",
              "</style>\n",
              "<table border=\"1\" class=\"dataframe\">\n",
              "  <thead>\n",
              "    <tr style=\"text-align: right;\">\n",
              "      <th></th>\n",
              "      <th>Order ID</th>\n",
              "      <th>Product</th>\n",
              "      <th>Quantity Ordered</th>\n",
              "      <th>Price Each</th>\n",
              "      <th>Order Date</th>\n",
              "      <th>Purchase Address</th>\n",
              "    </tr>\n",
              "  </thead>\n",
              "  <tbody>\n",
              "    <tr>\n",
              "      <th>0</th>\n",
              "      <td>141234</td>\n",
              "      <td>iPhone</td>\n",
              "      <td>1</td>\n",
              "      <td>700</td>\n",
              "      <td>01/22/19 21:25</td>\n",
              "      <td>944 Walnut St, Boston, MA 02215</td>\n",
              "    </tr>\n",
              "    <tr>\n",
              "      <th>1</th>\n",
              "      <td>141235</td>\n",
              "      <td>Lightning Charging Cable</td>\n",
              "      <td>1</td>\n",
              "      <td>14.95</td>\n",
              "      <td>01/28/19 14:15</td>\n",
              "      <td>185 Maple St, Portland, OR 97035</td>\n",
              "    </tr>\n",
              "    <tr>\n",
              "      <th>2</th>\n",
              "      <td>141236</td>\n",
              "      <td>Wired Headphones</td>\n",
              "      <td>2</td>\n",
              "      <td>11.99</td>\n",
              "      <td>01/17/19 13:33</td>\n",
              "      <td>538 Adams St, San Francisco, CA 94016</td>\n",
              "    </tr>\n",
              "    <tr>\n",
              "      <th>3</th>\n",
              "      <td>141237</td>\n",
              "      <td>27in FHD Monitor</td>\n",
              "      <td>1</td>\n",
              "      <td>149.99</td>\n",
              "      <td>01/05/19 20:33</td>\n",
              "      <td>738 10th St, Los Angeles, CA 90001</td>\n",
              "    </tr>\n",
              "    <tr>\n",
              "      <th>4</th>\n",
              "      <td>141238</td>\n",
              "      <td>Wired Headphones</td>\n",
              "      <td>1</td>\n",
              "      <td>11.99</td>\n",
              "      <td>01/25/19 11:59</td>\n",
              "      <td>387 10th St, Austin, TX 73301</td>\n",
              "    </tr>\n",
              "  </tbody>\n",
              "</table>\n",
              "</div>"
            ],
            "text/plain": [
              "  Order ID  ...                       Purchase Address\n",
              "0   141234  ...        944 Walnut St, Boston, MA 02215\n",
              "1   141235  ...       185 Maple St, Portland, OR 97035\n",
              "2   141236  ...  538 Adams St, San Francisco, CA 94016\n",
              "3   141237  ...     738 10th St, Los Angeles, CA 90001\n",
              "4   141238  ...          387 10th St, Austin, TX 73301\n",
              "\n",
              "[5 rows x 6 columns]"
            ]
          },
          "metadata": {
            "tags": []
          },
          "execution_count": 8
        }
      ]
    },
    {
      "cell_type": "code",
      "metadata": {
        "colab": {
          "base_uri": "https://localhost:8080/",
          "height": 204
        },
        "id": "ANeQ-TYuTb_i",
        "outputId": "245deb10-5f7a-4af3-998a-abb6cf11f7f8"
      },
      "source": [
        "combined_data.to_csv(\"combined_data_copy.csv\", index=False)\n",
        "combined_data = pd.read_csv(\"combined_data_copy.csv\")\n",
        "combined_data.head()\n"
      ],
      "execution_count": 9,
      "outputs": [
        {
          "output_type": "execute_result",
          "data": {
            "text/html": [
              "<div>\n",
              "<style scoped>\n",
              "    .dataframe tbody tr th:only-of-type {\n",
              "        vertical-align: middle;\n",
              "    }\n",
              "\n",
              "    .dataframe tbody tr th {\n",
              "        vertical-align: top;\n",
              "    }\n",
              "\n",
              "    .dataframe thead th {\n",
              "        text-align: right;\n",
              "    }\n",
              "</style>\n",
              "<table border=\"1\" class=\"dataframe\">\n",
              "  <thead>\n",
              "    <tr style=\"text-align: right;\">\n",
              "      <th></th>\n",
              "      <th>Order ID</th>\n",
              "      <th>Product</th>\n",
              "      <th>Quantity Ordered</th>\n",
              "      <th>Price Each</th>\n",
              "      <th>Order Date</th>\n",
              "      <th>Purchase Address</th>\n",
              "    </tr>\n",
              "  </thead>\n",
              "  <tbody>\n",
              "    <tr>\n",
              "      <th>0</th>\n",
              "      <td>141234</td>\n",
              "      <td>iPhone</td>\n",
              "      <td>1</td>\n",
              "      <td>700</td>\n",
              "      <td>01/22/19 21:25</td>\n",
              "      <td>944 Walnut St, Boston, MA 02215</td>\n",
              "    </tr>\n",
              "    <tr>\n",
              "      <th>1</th>\n",
              "      <td>141235</td>\n",
              "      <td>Lightning Charging Cable</td>\n",
              "      <td>1</td>\n",
              "      <td>14.95</td>\n",
              "      <td>01/28/19 14:15</td>\n",
              "      <td>185 Maple St, Portland, OR 97035</td>\n",
              "    </tr>\n",
              "    <tr>\n",
              "      <th>2</th>\n",
              "      <td>141236</td>\n",
              "      <td>Wired Headphones</td>\n",
              "      <td>2</td>\n",
              "      <td>11.99</td>\n",
              "      <td>01/17/19 13:33</td>\n",
              "      <td>538 Adams St, San Francisco, CA 94016</td>\n",
              "    </tr>\n",
              "    <tr>\n",
              "      <th>3</th>\n",
              "      <td>141237</td>\n",
              "      <td>27in FHD Monitor</td>\n",
              "      <td>1</td>\n",
              "      <td>149.99</td>\n",
              "      <td>01/05/19 20:33</td>\n",
              "      <td>738 10th St, Los Angeles, CA 90001</td>\n",
              "    </tr>\n",
              "    <tr>\n",
              "      <th>4</th>\n",
              "      <td>141238</td>\n",
              "      <td>Wired Headphones</td>\n",
              "      <td>1</td>\n",
              "      <td>11.99</td>\n",
              "      <td>01/25/19 11:59</td>\n",
              "      <td>387 10th St, Austin, TX 73301</td>\n",
              "    </tr>\n",
              "  </tbody>\n",
              "</table>\n",
              "</div>"
            ],
            "text/plain": [
              "  Order ID  ...                       Purchase Address\n",
              "0   141234  ...        944 Walnut St, Boston, MA 02215\n",
              "1   141235  ...       185 Maple St, Portland, OR 97035\n",
              "2   141236  ...  538 Adams St, San Francisco, CA 94016\n",
              "3   141237  ...     738 10th St, Los Angeles, CA 90001\n",
              "4   141238  ...          387 10th St, Austin, TX 73301\n",
              "\n",
              "[5 rows x 6 columns]"
            ]
          },
          "metadata": {
            "tags": []
          },
          "execution_count": 9
        }
      ]
    },
    {
      "cell_type": "code",
      "metadata": {
        "colab": {
          "base_uri": "https://localhost:8080/"
        },
        "id": "ltir-A3FVx5K",
        "outputId": "84dbf63a-53ea-4338-c374-0363c344ff29"
      },
      "source": [
        "df_NaN = df.isnull()\n",
        "row_has_NaN = df_NaN.any(axis=1)\n",
        "rows_with_NaN = df[row_has_NaN]\n",
        "\n",
        "print(rows_with_NaN)"
      ],
      "execution_count": 10,
      "outputs": [
        {
          "output_type": "stream",
          "text": [
            "      Order ID Product Quantity Ordered Price Each Order Date Purchase Address\n",
            "1          NaN     NaN              NaN        NaN        NaN              NaN\n",
            "356        NaN     NaN              NaN        NaN        NaN              NaN\n",
            "735        NaN     NaN              NaN        NaN        NaN              NaN\n",
            "1433       NaN     NaN              NaN        NaN        NaN              NaN\n",
            "1553       NaN     NaN              NaN        NaN        NaN              NaN\n",
            "1571       NaN     NaN              NaN        NaN        NaN              NaN\n",
            "1992       NaN     NaN              NaN        NaN        NaN              NaN\n",
            "2265       NaN     NaN              NaN        NaN        NaN              NaN\n",
            "2798       NaN     NaN              NaN        NaN        NaN              NaN\n",
            "3024       NaN     NaN              NaN        NaN        NaN              NaN\n",
            "3098       NaN     NaN              NaN        NaN        NaN              NaN\n",
            "4279       NaN     NaN              NaN        NaN        NaN              NaN\n",
            "4562       NaN     NaN              NaN        NaN        NaN              NaN\n",
            "4958       NaN     NaN              NaN        NaN        NaN              NaN\n",
            "5565       NaN     NaN              NaN        NaN        NaN              NaN\n",
            "6109       NaN     NaN              NaN        NaN        NaN              NaN\n",
            "6119       NaN     NaN              NaN        NaN        NaN              NaN\n",
            "6339       NaN     NaN              NaN        NaN        NaN              NaN\n",
            "6430       NaN     NaN              NaN        NaN        NaN              NaN\n",
            "6752       NaN     NaN              NaN        NaN        NaN              NaN\n",
            "7163       NaN     NaN              NaN        NaN        NaN              NaN\n",
            "7572       NaN     NaN              NaN        NaN        NaN              NaN\n",
            "7648       NaN     NaN              NaN        NaN        NaN              NaN\n",
            "8639       NaN     NaN              NaN        NaN        NaN              NaN\n",
            "8896       NaN     NaN              NaN        NaN        NaN              NaN\n",
            "9286       NaN     NaN              NaN        NaN        NaN              NaN\n",
            "9501       NaN     NaN              NaN        NaN        NaN              NaN\n",
            "9592       NaN     NaN              NaN        NaN        NaN              NaN\n",
            "9604       NaN     NaN              NaN        NaN        NaN              NaN\n",
            "9642       NaN     NaN              NaN        NaN        NaN              NaN\n",
            "9699       NaN     NaN              NaN        NaN        NaN              NaN\n",
            "9714       NaN     NaN              NaN        NaN        NaN              NaN\n",
            "9928       NaN     NaN              NaN        NaN        NaN              NaN\n",
            "10252      NaN     NaN              NaN        NaN        NaN              NaN\n",
            "10699      NaN     NaN              NaN        NaN        NaN              NaN\n",
            "11278      NaN     NaN              NaN        NaN        NaN              NaN\n",
            "11442      NaN     NaN              NaN        NaN        NaN              NaN\n",
            "11540      NaN     NaN              NaN        NaN        NaN              NaN\n",
            "11746      NaN     NaN              NaN        NaN        NaN              NaN\n",
            "11881      NaN     NaN              NaN        NaN        NaN              NaN\n",
            "12116      NaN     NaN              NaN        NaN        NaN              NaN\n",
            "12639      NaN     NaN              NaN        NaN        NaN              NaN\n",
            "12805      NaN     NaN              NaN        NaN        NaN              NaN\n",
            "12883      NaN     NaN              NaN        NaN        NaN              NaN\n",
            "13000      NaN     NaN              NaN        NaN        NaN              NaN\n",
            "13110      NaN     NaN              NaN        NaN        NaN              NaN\n",
            "13556      NaN     NaN              NaN        NaN        NaN              NaN\n",
            "13627      NaN     NaN              NaN        NaN        NaN              NaN\n",
            "14115      NaN     NaN              NaN        NaN        NaN              NaN\n",
            "14416      NaN     NaN              NaN        NaN        NaN              NaN\n",
            "15041      NaN     NaN              NaN        NaN        NaN              NaN\n",
            "15934      NaN     NaN              NaN        NaN        NaN              NaN\n",
            "16700      NaN     NaN              NaN        NaN        NaN              NaN\n",
            "16727      NaN     NaN              NaN        NaN        NaN              NaN\n",
            "16763      NaN     NaN              NaN        NaN        NaN              NaN\n",
            "16912      NaN     NaN              NaN        NaN        NaN              NaN\n",
            "17060      NaN     NaN              NaN        NaN        NaN              NaN\n",
            "17446      NaN     NaN              NaN        NaN        NaN              NaN\n",
            "17718      NaN     NaN              NaN        NaN        NaN              NaN\n"
          ],
          "name": "stdout"
        }
      ]
    },
    {
      "cell_type": "code",
      "metadata": {
        "colab": {
          "base_uri": "https://localhost:8080/"
        },
        "id": "7SbfYxROWaIv",
        "outputId": "c16111f2-da81-43dc-ddff-9b595f200c01"
      },
      "source": [
        "is_NaN = df.isnull()\n",
        "column_has_NaN = is_NaN.any(axis=1)\n",
        "column_with_NaN = df[column_has_NaN]\n",
        "\n",
        "print(column_with_NaN)"
      ],
      "execution_count": null,
      "outputs": [
        {
          "output_type": "stream",
          "text": [
            "      Order ID Product Quantity Ordered Price Each Order Date Purchase Address\n",
            "312        NaN     NaN              NaN        NaN        NaN              NaN\n",
            "1222       NaN     NaN              NaN        NaN        NaN              NaN\n",
            "2648       NaN     NaN              NaN        NaN        NaN              NaN\n",
            "2685       NaN     NaN              NaN        NaN        NaN              NaN\n",
            "3119       NaN     NaN              NaN        NaN        NaN              NaN\n",
            "3310       NaN     NaN              NaN        NaN        NaN              NaN\n",
            "4288       NaN     NaN              NaN        NaN        NaN              NaN\n",
            "4304       NaN     NaN              NaN        NaN        NaN              NaN\n",
            "4454       NaN     NaN              NaN        NaN        NaN              NaN\n",
            "4678       NaN     NaN              NaN        NaN        NaN              NaN\n",
            "5519       NaN     NaN              NaN        NaN        NaN              NaN\n",
            "5660       NaN     NaN              NaN        NaN        NaN              NaN\n",
            "6074       NaN     NaN              NaN        NaN        NaN              NaN\n",
            "6441       NaN     NaN              NaN        NaN        NaN              NaN\n",
            "6601       NaN     NaN              NaN        NaN        NaN              NaN\n",
            "6792       NaN     NaN              NaN        NaN        NaN              NaN\n",
            "7507       NaN     NaN              NaN        NaN        NaN              NaN\n",
            "7945       NaN     NaN              NaN        NaN        NaN              NaN\n",
            "7952       NaN     NaN              NaN        NaN        NaN              NaN\n",
            "8683       NaN     NaN              NaN        NaN        NaN              NaN\n",
            "8819       NaN     NaN              NaN        NaN        NaN              NaN\n",
            "8929       NaN     NaN              NaN        NaN        NaN              NaN\n",
            "9421       NaN     NaN              NaN        NaN        NaN              NaN\n",
            "9749       NaN     NaN              NaN        NaN        NaN              NaN\n",
            "10496      NaN     NaN              NaN        NaN        NaN              NaN\n",
            "10714      NaN     NaN              NaN        NaN        NaN              NaN\n",
            "10864      NaN     NaN              NaN        NaN        NaN              NaN\n",
            "10874      NaN     NaN              NaN        NaN        NaN              NaN\n"
          ],
          "name": "stdout"
        }
      ]
    },
    {
      "cell_type": "code",
      "metadata": {
        "colab": {
          "base_uri": "https://localhost:8080/"
        },
        "id": "noSgJQ-jWmez",
        "outputId": "1ce0d8a0-1f2e-4e15-d469-d0f5bdb405d1"
      },
      "source": [
        "combined_data=combined_data.dropna(how='all')\n",
        "print(combined_data)"
      ],
      "execution_count": 18,
      "outputs": [
        {
          "output_type": "stream",
          "text": [
            "       Order ID  ... Month\n",
            "0        141234  ...    01\n",
            "1        141235  ...    01\n",
            "2        141236  ...    01\n",
            "3        141237  ...    01\n",
            "4        141238  ...    01\n",
            "...         ...  ...   ...\n",
            "186845   259353  ...    09\n",
            "186846   259354  ...    09\n",
            "186847   259355  ...    09\n",
            "186848   259356  ...    09\n",
            "186849   259357  ...    09\n",
            "\n",
            "[185950 rows x 7 columns]\n"
          ],
          "name": "stdout"
        }
      ]
    },
    {
      "cell_type": "code",
      "metadata": {
        "id": "E3KEJqWxOuig",
        "colab": {
          "base_uri": "https://localhost:8080/",
          "height": 49
        },
        "outputId": "57f183f7-1789-4b64-c205-1a50dcdd49d2"
      },
      "source": [
        "temp= combined_data[combined_data['Order Date'].str[0:2]=='or']\n",
        "temp.head()"
      ],
      "execution_count": 19,
      "outputs": [
        {
          "output_type": "execute_result",
          "data": {
            "text/html": [
              "<div>\n",
              "<style scoped>\n",
              "    .dataframe tbody tr th:only-of-type {\n",
              "        vertical-align: middle;\n",
              "    }\n",
              "\n",
              "    .dataframe tbody tr th {\n",
              "        vertical-align: top;\n",
              "    }\n",
              "\n",
              "    .dataframe thead th {\n",
              "        text-align: right;\n",
              "    }\n",
              "</style>\n",
              "<table border=\"1\" class=\"dataframe\">\n",
              "  <thead>\n",
              "    <tr style=\"text-align: right;\">\n",
              "      <th></th>\n",
              "      <th>Order ID</th>\n",
              "      <th>Product</th>\n",
              "      <th>Quantity Ordered</th>\n",
              "      <th>Price Each</th>\n",
              "      <th>Order Date</th>\n",
              "      <th>Purchase Address</th>\n",
              "      <th>Month</th>\n",
              "    </tr>\n",
              "  </thead>\n",
              "  <tbody>\n",
              "  </tbody>\n",
              "</table>\n",
              "</div>"
            ],
            "text/plain": [
              "Empty DataFrame\n",
              "Columns: [Order ID, Product, Quantity Ordered, Price Each, Order Date, Purchase Address, Month]\n",
              "Index: []"
            ]
          },
          "metadata": {
            "tags": []
          },
          "execution_count": 19
        }
      ]
    },
    {
      "cell_type": "code",
      "metadata": {
        "colab": {
          "base_uri": "https://localhost:8080/"
        },
        "id": "pkeXvGu28bxg",
        "outputId": "b1132b16-0ec7-4341-de5b-d52d893f3bfc"
      },
      "source": [
        "combined_data.isnull().values.any()"
      ],
      "execution_count": 20,
      "outputs": [
        {
          "output_type": "execute_result",
          "data": {
            "text/plain": [
              "False"
            ]
          },
          "metadata": {
            "tags": []
          },
          "execution_count": 20
        }
      ]
    },
    {
      "cell_type": "code",
      "metadata": {
        "colab": {
          "base_uri": "https://localhost:8080/"
        },
        "id": "3golXaySD-yN",
        "outputId": "b296245a-8de4-4add-dbc5-dee77c4be5c6"
      },
      "source": [
        "combined_data.dtypes"
      ],
      "execution_count": 21,
      "outputs": [
        {
          "output_type": "execute_result",
          "data": {
            "text/plain": [
              "Order ID             object\n",
              "Product              object\n",
              "Quantity Ordered    float64\n",
              "Price Each          float64\n",
              "Order Date           object\n",
              "Purchase Address     object\n",
              "Month                object\n",
              "dtype: object"
            ]
          },
          "metadata": {
            "tags": []
          },
          "execution_count": 21
        }
      ]
    },
    {
      "cell_type": "code",
      "metadata": {
        "id": "Bl_AhIjANdLy"
      },
      "source": [
        "combined_data = combined_data[combined_data['Order Date'].str[0:2]!='Or']"
      ],
      "execution_count": 22,
      "outputs": []
    },
    {
      "cell_type": "code",
      "metadata": {
        "id": "nvmOXNWTEf_L"
      },
      "source": [
        "combined_data['Price Each']=pd.to_numeric(combined_data['Price Each'])"
      ],
      "execution_count": 23,
      "outputs": []
    },
    {
      "cell_type": "code",
      "metadata": {
        "id": "4u9o0fm8Oxlc"
      },
      "source": [
        "combined_data['Quantity Ordered']=pd.to_numeric(combined_data['Quantity Ordered'])"
      ],
      "execution_count": 24,
      "outputs": []
    },
    {
      "cell_type": "code",
      "metadata": {
        "colab": {
          "base_uri": "https://localhost:8080/",
          "height": 204
        },
        "id": "sOJuugsUQel6",
        "outputId": "ce31289d-bd9f-4d62-a358-0b4a9d9ab778"
      },
      "source": [
        "combined_data['Month'] = combined_data['Order Date'].str[0:2]\n",
        "combined_data['Month'] = combined_data['Month'].astype('int32')\n",
        "import calendar\n",
        "combined_data['Month'] = combined_data['Month'].apply(lambda x: calendar.month_abbr[x])\n",
        "combined_data.head()"
      ],
      "execution_count": 25,
      "outputs": [
        {
          "output_type": "execute_result",
          "data": {
            "text/html": [
              "<div>\n",
              "<style scoped>\n",
              "    .dataframe tbody tr th:only-of-type {\n",
              "        vertical-align: middle;\n",
              "    }\n",
              "\n",
              "    .dataframe tbody tr th {\n",
              "        vertical-align: top;\n",
              "    }\n",
              "\n",
              "    .dataframe thead th {\n",
              "        text-align: right;\n",
              "    }\n",
              "</style>\n",
              "<table border=\"1\" class=\"dataframe\">\n",
              "  <thead>\n",
              "    <tr style=\"text-align: right;\">\n",
              "      <th></th>\n",
              "      <th>Order ID</th>\n",
              "      <th>Product</th>\n",
              "      <th>Quantity Ordered</th>\n",
              "      <th>Price Each</th>\n",
              "      <th>Order Date</th>\n",
              "      <th>Purchase Address</th>\n",
              "      <th>Month</th>\n",
              "    </tr>\n",
              "  </thead>\n",
              "  <tbody>\n",
              "    <tr>\n",
              "      <th>0</th>\n",
              "      <td>141234</td>\n",
              "      <td>iPhone</td>\n",
              "      <td>1.0</td>\n",
              "      <td>700.00</td>\n",
              "      <td>01/22/19 21:25</td>\n",
              "      <td>944 Walnut St, Boston, MA 02215</td>\n",
              "      <td>Jan</td>\n",
              "    </tr>\n",
              "    <tr>\n",
              "      <th>1</th>\n",
              "      <td>141235</td>\n",
              "      <td>Lightning Charging Cable</td>\n",
              "      <td>1.0</td>\n",
              "      <td>14.95</td>\n",
              "      <td>01/28/19 14:15</td>\n",
              "      <td>185 Maple St, Portland, OR 97035</td>\n",
              "      <td>Jan</td>\n",
              "    </tr>\n",
              "    <tr>\n",
              "      <th>2</th>\n",
              "      <td>141236</td>\n",
              "      <td>Wired Headphones</td>\n",
              "      <td>2.0</td>\n",
              "      <td>11.99</td>\n",
              "      <td>01/17/19 13:33</td>\n",
              "      <td>538 Adams St, San Francisco, CA 94016</td>\n",
              "      <td>Jan</td>\n",
              "    </tr>\n",
              "    <tr>\n",
              "      <th>3</th>\n",
              "      <td>141237</td>\n",
              "      <td>27in FHD Monitor</td>\n",
              "      <td>1.0</td>\n",
              "      <td>149.99</td>\n",
              "      <td>01/05/19 20:33</td>\n",
              "      <td>738 10th St, Los Angeles, CA 90001</td>\n",
              "      <td>Jan</td>\n",
              "    </tr>\n",
              "    <tr>\n",
              "      <th>4</th>\n",
              "      <td>141238</td>\n",
              "      <td>Wired Headphones</td>\n",
              "      <td>1.0</td>\n",
              "      <td>11.99</td>\n",
              "      <td>01/25/19 11:59</td>\n",
              "      <td>387 10th St, Austin, TX 73301</td>\n",
              "      <td>Jan</td>\n",
              "    </tr>\n",
              "  </tbody>\n",
              "</table>\n",
              "</div>"
            ],
            "text/plain": [
              "  Order ID  ... Month\n",
              "0   141234  ...   Jan\n",
              "1   141235  ...   Jan\n",
              "2   141236  ...   Jan\n",
              "3   141237  ...   Jan\n",
              "4   141238  ...   Jan\n",
              "\n",
              "[5 rows x 7 columns]"
            ]
          },
          "metadata": {
            "tags": []
          },
          "execution_count": 25
        }
      ]
    },
    {
      "cell_type": "code",
      "metadata": {
        "id": "y-k852XLRuQV"
      },
      "source": [
        "combined_data['sales']=combined_data['Quantity Ordered']*combined_data['Price Each']"
      ],
      "execution_count": 26,
      "outputs": []
    },
    {
      "cell_type": "code",
      "metadata": {
        "colab": {
          "base_uri": "https://localhost:8080/",
          "height": 204
        },
        "id": "Bwq0HcqKSLkB",
        "outputId": "ca634e6d-d7c6-44df-dbf4-b46846ff9104"
      },
      "source": [
        "combined_data.head()"
      ],
      "execution_count": 27,
      "outputs": [
        {
          "output_type": "execute_result",
          "data": {
            "text/html": [
              "<div>\n",
              "<style scoped>\n",
              "    .dataframe tbody tr th:only-of-type {\n",
              "        vertical-align: middle;\n",
              "    }\n",
              "\n",
              "    .dataframe tbody tr th {\n",
              "        vertical-align: top;\n",
              "    }\n",
              "\n",
              "    .dataframe thead th {\n",
              "        text-align: right;\n",
              "    }\n",
              "</style>\n",
              "<table border=\"1\" class=\"dataframe\">\n",
              "  <thead>\n",
              "    <tr style=\"text-align: right;\">\n",
              "      <th></th>\n",
              "      <th>Order ID</th>\n",
              "      <th>Product</th>\n",
              "      <th>Quantity Ordered</th>\n",
              "      <th>Price Each</th>\n",
              "      <th>Order Date</th>\n",
              "      <th>Purchase Address</th>\n",
              "      <th>Month</th>\n",
              "      <th>sales</th>\n",
              "    </tr>\n",
              "  </thead>\n",
              "  <tbody>\n",
              "    <tr>\n",
              "      <th>0</th>\n",
              "      <td>141234</td>\n",
              "      <td>iPhone</td>\n",
              "      <td>1.0</td>\n",
              "      <td>700.00</td>\n",
              "      <td>01/22/19 21:25</td>\n",
              "      <td>944 Walnut St, Boston, MA 02215</td>\n",
              "      <td>Jan</td>\n",
              "      <td>700.00</td>\n",
              "    </tr>\n",
              "    <tr>\n",
              "      <th>1</th>\n",
              "      <td>141235</td>\n",
              "      <td>Lightning Charging Cable</td>\n",
              "      <td>1.0</td>\n",
              "      <td>14.95</td>\n",
              "      <td>01/28/19 14:15</td>\n",
              "      <td>185 Maple St, Portland, OR 97035</td>\n",
              "      <td>Jan</td>\n",
              "      <td>14.95</td>\n",
              "    </tr>\n",
              "    <tr>\n",
              "      <th>2</th>\n",
              "      <td>141236</td>\n",
              "      <td>Wired Headphones</td>\n",
              "      <td>2.0</td>\n",
              "      <td>11.99</td>\n",
              "      <td>01/17/19 13:33</td>\n",
              "      <td>538 Adams St, San Francisco, CA 94016</td>\n",
              "      <td>Jan</td>\n",
              "      <td>23.98</td>\n",
              "    </tr>\n",
              "    <tr>\n",
              "      <th>3</th>\n",
              "      <td>141237</td>\n",
              "      <td>27in FHD Monitor</td>\n",
              "      <td>1.0</td>\n",
              "      <td>149.99</td>\n",
              "      <td>01/05/19 20:33</td>\n",
              "      <td>738 10th St, Los Angeles, CA 90001</td>\n",
              "      <td>Jan</td>\n",
              "      <td>149.99</td>\n",
              "    </tr>\n",
              "    <tr>\n",
              "      <th>4</th>\n",
              "      <td>141238</td>\n",
              "      <td>Wired Headphones</td>\n",
              "      <td>1.0</td>\n",
              "      <td>11.99</td>\n",
              "      <td>01/25/19 11:59</td>\n",
              "      <td>387 10th St, Austin, TX 73301</td>\n",
              "      <td>Jan</td>\n",
              "      <td>11.99</td>\n",
              "    </tr>\n",
              "  </tbody>\n",
              "</table>\n",
              "</div>"
            ],
            "text/plain": [
              "  Order ID                   Product  ...  Month   sales\n",
              "0   141234                    iPhone  ...    Jan  700.00\n",
              "1   141235  Lightning Charging Cable  ...    Jan   14.95\n",
              "2   141236          Wired Headphones  ...    Jan   23.98\n",
              "3   141237          27in FHD Monitor  ...    Jan  149.99\n",
              "4   141238          Wired Headphones  ...    Jan   11.99\n",
              "\n",
              "[5 rows x 8 columns]"
            ]
          },
          "metadata": {
            "tags": []
          },
          "execution_count": 27
        }
      ]
    },
    {
      "cell_type": "markdown",
      "metadata": {
        "id": "GpQaX9ozqP5H"
      },
      "source": [
        "**What was the best month for sales? How much was earned that month?**"
      ]
    },
    {
      "cell_type": "code",
      "metadata": {
        "colab": {
          "base_uri": "https://localhost:8080/",
          "height": 452
        },
        "id": "iBPpqdZCThU1",
        "outputId": "5a3863ef-a935-4fe6-b4e2-277f52df4936"
      },
      "source": [
        "combined_data.groupby('Month').sum()"
      ],
      "execution_count": 28,
      "outputs": [
        {
          "output_type": "execute_result",
          "data": {
            "text/html": [
              "<div>\n",
              "<style scoped>\n",
              "    .dataframe tbody tr th:only-of-type {\n",
              "        vertical-align: middle;\n",
              "    }\n",
              "\n",
              "    .dataframe tbody tr th {\n",
              "        vertical-align: top;\n",
              "    }\n",
              "\n",
              "    .dataframe thead th {\n",
              "        text-align: right;\n",
              "    }\n",
              "</style>\n",
              "<table border=\"1\" class=\"dataframe\">\n",
              "  <thead>\n",
              "    <tr style=\"text-align: right;\">\n",
              "      <th></th>\n",
              "      <th>Quantity Ordered</th>\n",
              "      <th>Price Each</th>\n",
              "      <th>sales</th>\n",
              "    </tr>\n",
              "    <tr>\n",
              "      <th>Month</th>\n",
              "      <th></th>\n",
              "      <th></th>\n",
              "      <th></th>\n",
              "    </tr>\n",
              "  </thead>\n",
              "  <tbody>\n",
              "    <tr>\n",
              "      <th>Apr</th>\n",
              "      <td>20558.0</td>\n",
              "      <td>3.367671e+06</td>\n",
              "      <td>3.390670e+06</td>\n",
              "    </tr>\n",
              "    <tr>\n",
              "      <th>Aug</th>\n",
              "      <td>13448.0</td>\n",
              "      <td>2.230345e+06</td>\n",
              "      <td>2.244468e+06</td>\n",
              "    </tr>\n",
              "    <tr>\n",
              "      <th>Dec</th>\n",
              "      <td>28114.0</td>\n",
              "      <td>4.588415e+06</td>\n",
              "      <td>4.613443e+06</td>\n",
              "    </tr>\n",
              "    <tr>\n",
              "      <th>Feb</th>\n",
              "      <td>13449.0</td>\n",
              "      <td>2.188885e+06</td>\n",
              "      <td>2.202022e+06</td>\n",
              "    </tr>\n",
              "    <tr>\n",
              "      <th>Jan</th>\n",
              "      <td>10903.0</td>\n",
              "      <td>1.811768e+06</td>\n",
              "      <td>1.822257e+06</td>\n",
              "    </tr>\n",
              "    <tr>\n",
              "      <th>Jul</th>\n",
              "      <td>16072.0</td>\n",
              "      <td>2.632540e+06</td>\n",
              "      <td>2.647776e+06</td>\n",
              "    </tr>\n",
              "    <tr>\n",
              "      <th>Jun</th>\n",
              "      <td>15253.0</td>\n",
              "      <td>2.562026e+06</td>\n",
              "      <td>2.577802e+06</td>\n",
              "    </tr>\n",
              "    <tr>\n",
              "      <th>Mar</th>\n",
              "      <td>17005.0</td>\n",
              "      <td>2.791208e+06</td>\n",
              "      <td>2.807100e+06</td>\n",
              "    </tr>\n",
              "    <tr>\n",
              "      <th>May</th>\n",
              "      <td>18667.0</td>\n",
              "      <td>3.135125e+06</td>\n",
              "      <td>3.152607e+06</td>\n",
              "    </tr>\n",
              "    <tr>\n",
              "      <th>Nov</th>\n",
              "      <td>19798.0</td>\n",
              "      <td>3.180601e+06</td>\n",
              "      <td>3.199603e+06</td>\n",
              "    </tr>\n",
              "    <tr>\n",
              "      <th>Oct</th>\n",
              "      <td>22703.0</td>\n",
              "      <td>3.715555e+06</td>\n",
              "      <td>3.736727e+06</td>\n",
              "    </tr>\n",
              "    <tr>\n",
              "      <th>Sep</th>\n",
              "      <td>13109.0</td>\n",
              "      <td>2.084992e+06</td>\n",
              "      <td>2.097560e+06</td>\n",
              "    </tr>\n",
              "  </tbody>\n",
              "</table>\n",
              "</div>"
            ],
            "text/plain": [
              "       Quantity Ordered    Price Each         sales\n",
              "Month                                              \n",
              "Apr             20558.0  3.367671e+06  3.390670e+06\n",
              "Aug             13448.0  2.230345e+06  2.244468e+06\n",
              "Dec             28114.0  4.588415e+06  4.613443e+06\n",
              "Feb             13449.0  2.188885e+06  2.202022e+06\n",
              "Jan             10903.0  1.811768e+06  1.822257e+06\n",
              "Jul             16072.0  2.632540e+06  2.647776e+06\n",
              "Jun             15253.0  2.562026e+06  2.577802e+06\n",
              "Mar             17005.0  2.791208e+06  2.807100e+06\n",
              "May             18667.0  3.135125e+06  3.152607e+06\n",
              "Nov             19798.0  3.180601e+06  3.199603e+06\n",
              "Oct             22703.0  3.715555e+06  3.736727e+06\n",
              "Sep             13109.0  2.084992e+06  2.097560e+06"
            ]
          },
          "metadata": {
            "tags": []
          },
          "execution_count": 28
        }
      ]
    },
    {
      "cell_type": "markdown",
      "metadata": {
        "id": "nmgVJV3CqOUM"
      },
      "source": [
        "*December is the best month for salse.The total sales=4.613443e+06*"
      ]
    },
    {
      "cell_type": "code",
      "metadata": {
        "id": "d0GVA4nNSzQh"
      },
      "source": [
        "Sales=combined_data[['sales','Month']].groupby('Month').sum('sales').astype('int64')"
      ],
      "execution_count": 30,
      "outputs": []
    },
    {
      "cell_type": "code",
      "metadata": {
        "colab": {
          "base_uri": "https://localhost:8080/",
          "height": 415
        },
        "id": "qSq1KDS8M9bM",
        "outputId": "b8be523a-44d9-403e-92ed-6ad3ba3a8ad7"
      },
      "source": [
        "ax=Sales.plot(kind='bar',ylabel='Sales in USD',title='Sales per Months',legend=False,figsize=(18,6),width=0.8)\n",
        "for p in ax.patches:\n",
        "    ax.annotate(str(p.get_height()), (p.get_x() * 1.01, p.get_height() * 1.01))"
      ],
      "execution_count": 32,
      "outputs": [
        {
          "output_type": "display_data",
          "data": {
            "image/png": "[encoded data removed]",
            "text/plain": [
              "<Figure size 1296x432 with 1 Axes>"
            ]
          },
          "metadata": {
            "tags": [],
            "needs_background": "light"
          }
        }
      ]
    },
    {
      "cell_type": "markdown",
      "metadata": {
        "id": "ooJIyQDRvPsN"
      },
      "source": [
        "** What city sold the most product?**\n",
        "\n",
        "\n"
      ]
    },
    {
      "cell_type": "code",
      "metadata": {
        "colab": {
          "base_uri": "https://localhost:8080/",
          "height": 204
        },
        "id": "KyxAhiPjwC4R",
        "outputId": "23c6eacb-9d2b-4b87-c8b9-72f803fceaca"
      },
      "source": [
        "def get_city(address):\n",
        "    return address.split(\",\")[1].strip(\" \")\n",
        "\n",
        "def get_state(address):\n",
        "    return address.split(\",\")[2].split(\" \")[1]\n",
        "\n",
        "combined_data['City'] = combined_data['Purchase Address'].apply(lambda x: f\"{get_city(x)}  ({get_state(x)})\")\n",
        "combined_data.head()"
      ],
      "execution_count": 34,
      "outputs": [
        {
          "output_type": "execute_result",
          "data": {
            "text/html": [
              "<div>\n",
              "<style scoped>\n",
              "    .dataframe tbody tr th:only-of-type {\n",
              "        vertical-align: middle;\n",
              "    }\n",
              "\n",
              "    .dataframe tbody tr th {\n",
              "        vertical-align: top;\n",
              "    }\n",
              "\n",
              "    .dataframe thead th {\n",
              "        text-align: right;\n",
              "    }\n",
              "</style>\n",
              "<table border=\"1\" class=\"dataframe\">\n",
              "  <thead>\n",
              "    <tr style=\"text-align: right;\">\n",
              "      <th></th>\n",
              "      <th>Order ID</th>\n",
              "      <th>Product</th>\n",
              "      <th>Quantity Ordered</th>\n",
              "      <th>Price Each</th>\n",
              "      <th>Order Date</th>\n",
              "      <th>Purchase Address</th>\n",
              "      <th>Month</th>\n",
              "      <th>sales</th>\n",
              "      <th>City</th>\n",
              "    </tr>\n",
              "  </thead>\n",
              "  <tbody>\n",
              "    <tr>\n",
              "      <th>0</th>\n",
              "      <td>141234</td>\n",
              "      <td>iPhone</td>\n",
              "      <td>1.0</td>\n",
              "      <td>700.00</td>\n",
              "      <td>01/22/19 21:25</td>\n",
              "      <td>944 Walnut St, Boston, MA 02215</td>\n",
              "      <td>Jan</td>\n",
              "      <td>700.00</td>\n",
              "      <td>Boston  (MA)</td>\n",
              "    </tr>\n",
              "    <tr>\n",
              "      <th>1</th>\n",
              "      <td>141235</td>\n",
              "      <td>Lightning Charging Cable</td>\n",
              "      <td>1.0</td>\n",
              "      <td>14.95</td>\n",
              "      <td>01/28/19 14:15</td>\n",
              "      <td>185 Maple St, Portland, OR 97035</td>\n",
              "      <td>Jan</td>\n",
              "      <td>14.95</td>\n",
              "      <td>Portland  (OR)</td>\n",
              "    </tr>\n",
              "    <tr>\n",
              "      <th>2</th>\n",
              "      <td>141236</td>\n",
              "      <td>Wired Headphones</td>\n",
              "      <td>2.0</td>\n",
              "      <td>11.99</td>\n",
              "      <td>01/17/19 13:33</td>\n",
              "      <td>538 Adams St, San Francisco, CA 94016</td>\n",
              "      <td>Jan</td>\n",
              "      <td>23.98</td>\n",
              "      <td>San Francisco  (CA)</td>\n",
              "    </tr>\n",
              "    <tr>\n",
              "      <th>3</th>\n",
              "      <td>141237</td>\n",
              "      <td>27in FHD Monitor</td>\n",
              "      <td>1.0</td>\n",
              "      <td>149.99</td>\n",
              "      <td>01/05/19 20:33</td>\n",
              "      <td>738 10th St, Los Angeles, CA 90001</td>\n",
              "      <td>Jan</td>\n",
              "      <td>149.99</td>\n",
              "      <td>Los Angeles  (CA)</td>\n",
              "    </tr>\n",
              "    <tr>\n",
              "      <th>4</th>\n",
              "      <td>141238</td>\n",
              "      <td>Wired Headphones</td>\n",
              "      <td>1.0</td>\n",
              "      <td>11.99</td>\n",
              "      <td>01/25/19 11:59</td>\n",
              "      <td>387 10th St, Austin, TX 73301</td>\n",
              "      <td>Jan</td>\n",
              "      <td>11.99</td>\n",
              "      <td>Austin  (TX)</td>\n",
              "    </tr>\n",
              "  </tbody>\n",
              "</table>\n",
              "</div>"
            ],
            "text/plain": [
              "  Order ID                   Product  ...   sales                 City\n",
              "0   141234                    iPhone  ...  700.00         Boston  (MA)\n",
              "1   141235  Lightning Charging Cable  ...   14.95       Portland  (OR)\n",
              "2   141236          Wired Headphones  ...   23.98  San Francisco  (CA)\n",
              "3   141237          27in FHD Monitor  ...  149.99    Los Angeles  (CA)\n",
              "4   141238          Wired Headphones  ...   11.99         Austin  (TX)\n",
              "\n",
              "[5 rows x 9 columns]"
            ]
          },
          "metadata": {
            "tags": []
          },
          "execution_count": 34
        }
      ]
    },
    {
      "cell_type": "code",
      "metadata": {
        "id": "lmBk2LBDQelM"
      },
      "source": [
        "sales_per_city=combined_data[['City','sales']].groupby(['City']).sum().astype('int64')"
      ],
      "execution_count": 37,
      "outputs": []
    },
    {
      "cell_type": "code",
      "metadata": {
        "colab": {
          "base_uri": "https://localhost:8080/",
          "height": 436
        },
        "id": "Uaqc9KtVRRty",
        "outputId": "2e98e783-38e7-41c8-fd7b-22d279946591"
      },
      "source": [
        "ax=sales_per_city.plot(figsize=(15,5),kind='bar',legend=False,ylabel='Sales in USD',title='city sold the most Product')\n",
        "for p in ax.patches:\n",
        "    ax.annotate(str(p.get_height()), (p.get_x() , p.get_height()*1.02 ))"
      ],
      "execution_count": 38,
      "outputs": [
        {
          "output_type": "display_data",
          "data": {
            "image/png": "[encoded data removed]",
            "text/plain": [
              "<Figure size 1080x360 with 1 Axes>"
            ]
          },
          "metadata": {
            "tags": [],
            "needs_background": "light"
          }
        }
      ]
    },
    {
      "cell_type": "markdown",
      "metadata": {
        "id": "7u4fzNqDxpah"
      },
      "source": [
        "san Francisco has sold most product."
      ]
    },
    {
      "cell_type": "markdown",
      "metadata": {
        "id": "CxCS1QQp0s7_"
      },
      "source": [
        "**What time should we display advertisemens to maximize the likelihood of customer’s buying product?**"
      ]
    },
    {
      "cell_type": "code",
      "metadata": {
        "id": "qBLGSHFz1fhj"
      },
      "source": [
        "combined_data['Time']=pd.DatetimeIndex(combined_data['Order Date']).time"
      ],
      "execution_count": 53,
      "outputs": []
    },
    {
      "cell_type": "code",
      "metadata": {
        "id": "MRRHxyK7StKH"
      },
      "source": [
        "combined_data['Hour']=pd.DatetimeIndex(combined_data['Order Date']).hour"
      ],
      "execution_count": 54,
      "outputs": []
    },
    {
      "cell_type": "code",
      "metadata": {
        "id": "w3gwEzRfTBYi"
      },
      "source": [
        "combined_data['Hour']=pd.DatetimeIndex(combined_data['Order Date']).minute"
      ],
      "execution_count": 46,
      "outputs": []
    },
    {
      "cell_type": "code",
      "metadata": {
        "id": "VrKS0RxHTY1s"
      },
      "source": [
        "combined_data['count']=1"
      ],
      "execution_count": 48,
      "outputs": []
    },
    {
      "cell_type": "code",
      "metadata": {
        "colab": {
          "base_uri": "https://localhost:8080/",
          "height": 421
        },
        "id": "RHGYJDOETsui",
        "outputId": "9d4167a2-da51-431e-d2d5-c441896e7b29"
      },
      "source": [
        "import numpy as np\n",
        "combined_data[['Hour','count']].groupby('Hour').sum().plot(figsize=(15,6),kind='line',xticks=np.arange(0,25),legend=False,xlabel='Time by Hours'\n",
        ",ylabel='Order count per Hour',title='Time prediction for Advertisement',grid=True)\n"
      ],
      "execution_count": 55,
      "outputs": [
        {
          "output_type": "execute_result",
          "data": {
            "text/plain": [
              "<matplotlib.axes._subplots.AxesSubplot at 0x7febf1396f10>"
            ]
          },
          "metadata": {
            "tags": []
          },
          "execution_count": 55
        },
        {
          "output_type": "display_data",
          "data": {
            "image/png": "[encoded data removed]",
            "text/plain": [
              "<Figure size 1080x432 with 1 Axes>"
            ]
          },
          "metadata": {
            "tags": [],
            "needs_background": "light"
          }
        }
      ]
    },
    {
      "cell_type": "markdown",
      "metadata": {
        "id": "iejnp_BpVEkA"
      },
      "source": [
        "slightly before 11 am or 7pm."
      ]
    },
    {
      "cell_type": "markdown",
      "metadata": {
        "id": "rnX8nhq-_7-X"
      },
      "source": [
        "**What product sold the most? Why do you think it sold the most?**\n"
      ]
    },
    {
      "cell_type": "code",
      "metadata": {
        "colab": {
          "base_uri": "https://localhost:8080/"
        },
        "id": "soxt0o_AALas",
        "outputId": "24c571d6-446a-408e-ac5c-93d41e1840d1"
      },
      "source": [
        "print(combined_data[\"Product\"].unique())"
      ],
      "execution_count": 80,
      "outputs": [
        {
          "output_type": "stream",
          "text": [
            "['iPhone' 'Lightning Charging Cable' 'Wired Headphones' '27in FHD Monitor'\n",
            " 'AAA Batteries (4-pack)' '27in 4K Gaming Monitor' 'USB-C Charging Cable'\n",
            " 'Bose SoundSport Headphones' 'Apple Airpods Headphones'\n",
            " 'Macbook Pro Laptop' 'Flatscreen TV' 'Vareebadd Phone'\n",
            " 'AA Batteries (4-pack)' 'Google Phone' '20in Monitor'\n",
            " '34in Ultrawide Monitor' 'ThinkPad Laptop' 'LG Dryer'\n",
            " 'LG Washing Machine']\n"
          ],
          "name": "stdout"
        }
      ]
    },
    {
      "cell_type": "code",
      "metadata": {
        "colab": {
          "base_uri": "https://localhost:8080/",
          "height": 235
        },
        "id": "Q8RWfXzMATbP",
        "outputId": "2e7e3286-ba97-48bf-ff26-1a917fdc7f4c"
      },
      "source": [
        "product=combined_data.groupby(['Product'])['Quantity Ordered'].sum().sort_values(ascending=False).head()\n",
        "product=product.to_frame()\n",
        "\n",
        "product"
      ],
      "execution_count": 82,
      "outputs": [
        {
          "output_type": "execute_result",
          "data": {
            "text/html": [
              "<div>\n",
              "<style scoped>\n",
              "    .dataframe tbody tr th:only-of-type {\n",
              "        vertical-align: middle;\n",
              "    }\n",
              "\n",
              "    .dataframe tbody tr th {\n",
              "        vertical-align: top;\n",
              "    }\n",
              "\n",
              "    .dataframe thead th {\n",
              "        text-align: right;\n",
              "    }\n",
              "</style>\n",
              "<table border=\"1\" class=\"dataframe\">\n",
              "  <thead>\n",
              "    <tr style=\"text-align: right;\">\n",
              "      <th></th>\n",
              "      <th>Quantity Ordered</th>\n",
              "    </tr>\n",
              "    <tr>\n",
              "      <th>Product</th>\n",
              "      <th></th>\n",
              "    </tr>\n",
              "  </thead>\n",
              "  <tbody>\n",
              "    <tr>\n",
              "      <th>AAA Batteries (4-pack)</th>\n",
              "      <td>31017.0</td>\n",
              "    </tr>\n",
              "    <tr>\n",
              "      <th>AA Batteries (4-pack)</th>\n",
              "      <td>27635.0</td>\n",
              "    </tr>\n",
              "    <tr>\n",
              "      <th>USB-C Charging Cable</th>\n",
              "      <td>23975.0</td>\n",
              "    </tr>\n",
              "    <tr>\n",
              "      <th>Lightning Charging Cable</th>\n",
              "      <td>23217.0</td>\n",
              "    </tr>\n",
              "    <tr>\n",
              "      <th>Wired Headphones</th>\n",
              "      <td>20557.0</td>\n",
              "    </tr>\n",
              "  </tbody>\n",
              "</table>\n",
              "</div>"
            ],
            "text/plain": [
              "                          Quantity Ordered\n",
              "Product                                   \n",
              "AAA Batteries (4-pack)             31017.0\n",
              "AA Batteries (4-pack)              27635.0\n",
              "USB-C Charging Cable               23975.0\n",
              "Lightning Charging Cable           23217.0\n",
              "Wired Headphones                   20557.0"
            ]
          },
          "metadata": {
            "tags": []
          },
          "execution_count": 82
        }
      ]
    },
    {
      "cell_type": "markdown",
      "metadata": {
        "id": "iga6x1oKCgRp"
      },
      "source": [
        "AAA Batteries (4-pack)\tis sold most because it is cheaper."
      ]
    },
    {
      "cell_type": "code",
      "metadata": {
        "colab": {
          "base_uri": "https://localhost:8080/",
          "height": 377
        },
        "id": "c9i-FfxIagfd",
        "outputId": "88fd9d59-a746-4e60-966b-e3585af89303"
      },
      "source": [
        "import matplotlib.pyplot as plt\n",
        "product_group = combined_data.groupby('Product')\n",
        "quantity_ordered = product_group.sum()['Quantity Ordered']\n",
        "\n",
        "keys = [pair for pair, df in product_group]\n",
        "plt.bar(keys, quantity_ordered)\n",
        "plt.xticks(keys, rotation='vertical', size=8)\n",
        "plt.show()"
      ],
      "execution_count": 74,
      "outputs": [
        {
          "output_type": "display_data",
          "data": {
            "image/png": "[encoded data removed]",
            "text/plain": [
              "<Figure size 432x288 with 1 Axes>"
            ]
          },
          "metadata": {
            "tags": [],
            "needs_background": "light"
          }
        }
      ]
    },
    {
      "cell_type": "code",
      "metadata": {
        "colab": {
          "base_uri": "https://localhost:8080/",
          "height": 391
        },
        "id": "uZT5rwN3fF5a",
        "outputId": "6f370460-8e71-47e6-8ca1-b7e8dcca6723"
      },
      "source": [
        "prices = combined_data.groupby('Product').mean()['Price Each']\n",
        "\n",
        "fig, ax1 = plt.subplots()\n",
        "\n",
        "ax2 = ax1.twinx()\n",
        "ax1.bar(keys, quantity_ordered, color='g')\n",
        "ax2.plot(keys, prices, color='b')\n",
        "\n",
        "ax1.set_xlabel('Product Name')\n",
        "ax1.set_ylabel('Quantity Ordered', color='g')\n",
        "ax2.set_ylabel('Price ($)', color='b')\n",
        "ax1.set_xticklabels(keys, rotation='vertical', size=8)\n",
        "\n",
        "fig.show()"
      ],
      "execution_count": 84,
      "outputs": [
        {
          "output_type": "display_data",
          "data": {
            "image/png": "[encoded data removed]",
            "text/plain": [
              "<Figure size 432x288 with 2 Axes>"
            ]
          },
          "metadata": {
            "tags": [],
            "needs_background": "light"
          }
        }
      ]
    },
    {
      "cell_type": "markdown",
      "metadata": {
        "id": "0-1CQahLfvvt"
      },
      "source": [
        "**What products are most often sold together?**\n",
        "\n",
        "```\n",
        "\n"
      ]
    },
    {
      "cell_type": "code",
      "metadata": {
        "id": "_8Qteh3Gf5Sl"
      },
      "source": [
        "sal=combined_data['Order ID'].value_counts()"
      ],
      "execution_count": 85,
      "outputs": []
    },
    {
      "cell_type": "code",
      "metadata": {
        "id": "5-ftPkdJWJmJ"
      },
      "source": [
        "repeated = set(s[s > 1].index.values)"
      ],
      "execution_count": 86,
      "outputs": []
    },
    {
      "cell_type": "code",
      "metadata": {
        "id": "Vl0Ku-uggj-T"
      },
      "source": [
        "df1=combined_data[combined_data['Order ID'].isin(repeated)]"
      ],
      "execution_count": 87,
      "outputs": []
    },
    {
      "cell_type": "code",
      "metadata": {
        "colab": {
          "base_uri": "https://localhost:8080/"
        },
        "id": "NsRHdMi9g2rs",
        "outputId": "c08de572-027a-487f-e9ed-19cf1f8f901b"
      },
      "source": [
        "df1['Join']=df1[['Order ID','Product']].groupby('Order ID')['Product'].transform(lambda x: ','.join(x))\n"
      ],
      "execution_count": 88,
      "outputs": [
        {
          "output_type": "stream",
          "text": [
            "/usr/local/lib/python3.7/dist-packages/ipykernel_launcher.py:1: SettingWithCopyWarning: \n",
            "A value is trying to be set on a copy of a slice from a DataFrame.\n",
            "Try using .loc[row_indexer,col_indexer] = value instead\n",
            "\n",
            "See the caveats in the documentation: https://pandas.pydata.org/pandas-docs/stable/user_guide/indexing.html#returning-a-view-versus-a-copy\n",
            "  \"\"\"Entry point for launching an IPython kernel.\n"
          ],
          "name": "stderr"
        }
      ]
    },
    {
      "cell_type": "code",
      "metadata": {
        "colab": {
          "base_uri": "https://localhost:8080/"
        },
        "id": "CXfXikMgg_7Z",
        "outputId": "16108362-dd7d-434d-ede6-f428131b8d5c"
      },
      "source": [
        "df1['Count']=1"
      ],
      "execution_count": 89,
      "outputs": [
        {
          "output_type": "stream",
          "text": [
            "/usr/local/lib/python3.7/dist-packages/ipykernel_launcher.py:1: SettingWithCopyWarning: \n",
            "A value is trying to be set on a copy of a slice from a DataFrame.\n",
            "Try using .loc[row_indexer,col_indexer] = value instead\n",
            "\n",
            "See the caveats in the documentation: https://pandas.pydata.org/pandas-docs/stable/user_guide/indexing.html#returning-a-view-versus-a-copy\n",
            "  \"\"\"Entry point for launching an IPython kernel.\n"
          ],
          "name": "stderr"
        }
      ]
    },
    {
      "cell_type": "code",
      "metadata": {
        "colab": {
          "base_uri": "https://localhost:8080/",
          "height": 235
        },
        "id": "JT9az5mYhMRt",
        "outputId": "bbba44ae-457a-44a0-d1a9-c127dcb20c91"
      },
      "source": [
        "df1.groupby('Join')[['Count']].count().sort_values(by='Count',ascending=False).head()"
      ],
      "execution_count": 92,
      "outputs": [
        {
          "output_type": "execute_result",
          "data": {
            "text/html": [
              "<div>\n",
              "<style scoped>\n",
              "    .dataframe tbody tr th:only-of-type {\n",
              "        vertical-align: middle;\n",
              "    }\n",
              "\n",
              "    .dataframe tbody tr th {\n",
              "        vertical-align: top;\n",
              "    }\n",
              "\n",
              "    .dataframe thead th {\n",
              "        text-align: right;\n",
              "    }\n",
              "</style>\n",
              "<table border=\"1\" class=\"dataframe\">\n",
              "  <thead>\n",
              "    <tr style=\"text-align: right;\">\n",
              "      <th></th>\n",
              "      <th>Count</th>\n",
              "    </tr>\n",
              "    <tr>\n",
              "      <th>Join</th>\n",
              "      <th></th>\n",
              "    </tr>\n",
              "  </thead>\n",
              "  <tbody>\n",
              "    <tr>\n",
              "      <th>iPhone,Lightning Charging Cable</th>\n",
              "      <td>1764</td>\n",
              "    </tr>\n",
              "    <tr>\n",
              "      <th>Google Phone,USB-C Charging Cable</th>\n",
              "      <td>1712</td>\n",
              "    </tr>\n",
              "    <tr>\n",
              "      <th>iPhone,Wired Headphones</th>\n",
              "      <td>722</td>\n",
              "    </tr>\n",
              "    <tr>\n",
              "      <th>Vareebadd Phone,USB-C Charging Cable</th>\n",
              "      <td>624</td>\n",
              "    </tr>\n",
              "    <tr>\n",
              "      <th>Google Phone,Wired Headphones</th>\n",
              "      <td>606</td>\n",
              "    </tr>\n",
              "  </tbody>\n",
              "</table>\n",
              "</div>"
            ],
            "text/plain": [
              "                                      Count\n",
              "Join                                       \n",
              "iPhone,Lightning Charging Cable        1764\n",
              "Google Phone,USB-C Charging Cable      1712\n",
              "iPhone,Wired Headphones                 722\n",
              "Vareebadd Phone,USB-C Charging Cable    624\n",
              "Google Phone,Wired Headphones           606"
            ]
          },
          "metadata": {
            "tags": []
          },
          "execution_count": 92
        }
      ]
    }
  ]
}